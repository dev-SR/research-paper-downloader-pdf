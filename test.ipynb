{
 "cells": [
  {
   "cell_type": "code",
   "execution_count": 28,
   "metadata": {},
   "outputs": [],
   "source": [
    "import pandas as pd\n",
    "from pprint import pprint\n",
    "from IPython.display import display"
   ]
  },
  {
   "cell_type": "markdown",
   "metadata": {},
   "source": [
    "## Pdf Downloader"
   ]
  },
  {
   "cell_type": "code",
   "execution_count": 2,
   "metadata": {},
   "outputs": [],
   "source": [
    "dlink = \"https://www.researchgate.net/profile/Corina-Florescu/publication/318596725_PositionRank_An_Unsupervised_Approach_to_Keyphrase_Extraction_from_Scholarly_Documents/links/5972182c0f7e9b40168fe63d/PositionRank-An-Unsupervised-Approach-to-Keyphrase-Extraction-from-Scholarly-Documents.pdf\"\n"
   ]
  },
  {
   "cell_type": "code",
   "execution_count": 10,
   "metadata": {},
   "outputs": [
    {
     "name": "stdout",
     "output_type": "stream",
     "text": [
      "{'User-Agent': 'Mozilla/5.0 (Windows NT 10.0; Win64; x64) AppleWebKit/537.36 (KHTML, like Gecko) Chrome/101.0.4951.64 Safari/537.36 Edg/101.0.1210.53', 'Accept-Encoding': 'gzip, deflate, br', 'Accept': 'text/html,application/xhtml+xml,application/xml;q=0.9,image/webp,image/apng,*/*;q=0.8,application/signed-exchange;v=b3;q=0.9', 'Connection': 'keep-alive', 'sec-ch-ua-platform': '\"Windows\"', 'sec-ch-ua': '\" Not A;Brand\";v=\"99\", \"Chromium\";v=\"101\", \"Microsoft Edge\";v=\"101\"', 'sec-ch-ua-mobile': '?0', 'Sec-Fetch-User': '?1', 'Sec-Fetch-Site': 'none', 'Sec-Fetch-Mode': 'navigate', 'Sec-Fetch-Dest': 'document', 'Accept-Language': 'en-US,en;q=0.9', 'Cookie': 'did=zp8vP15CGPkm8uJhry60BLeiaOSKZW8p51UupMljAdqP7WMnERbTEfnOEdkUTTE6; ptc=RG1.81179579133230362.1653300988; __cf_bm=VPc7zYTygZZxFutIAXPHQpRxUBRoKo5DuX4.nIiFqY4-1653300988-0-AS9iIVhVUqqi7Se51WNYTtVymQf9Bcoz4j93uLiq8GlgX73WKpoRJDlUdo0r3fsgmlKXLudkfYdv3NWQ3R10So0=; sid=JwZkeNfoeKESm08f4EtenQVKDk2nKtHGd7oj2rLJlkcwYIZBWff4LHaT6fuoKhSCkGzqyR0Hw5NoUrpTSJnIQsBdhyT7H4gjE0OLNSdOG1q6SSiq5rFPqb1UCjy8nmQS', 'Upgrade-Insecure-Requests': '1', 'Cache-Control': 'max-age=0'}\n",
      "\n",
      "Error downloading the file\n",
      "403\n",
      "Forbidden\n"
     ]
    }
   ],
   "source": [
    "import requests\n",
    "import shutil\n",
    "dlink = \"https://www.researchgate.net/profile/Corina-Florescu/publication/318596725_PositionRank_An_Unsupervised_Approach_to_Keyphrase_Extraction_from_Scholarly_Documents/links/5972182c0f7e9b40168fe63d/PositionRank-An-Unsupervised-Approach-to-Keyphrase-Extraction-from-Scholarly-Documents.pdf\"\n",
    "\n",
    "r = requests.get(dlink, stream=True,\n",
    "                 headers={\n",
    "                     \"User-Agent\": 'Mozilla/5.0 (Windows NT 10.0; Win64; x64) AppleWebKit/537.36 (KHTML, like Gecko) Chrome/101.0.4951.64 Safari/537.36 Edg/101.0.1210.53',\n",
    "                     \"sec-ch-ua-platform\": '\"Windows\"',\n",
    "                     \"sec-ch-ua\": '\" Not A;Brand\";v=\"99\", \"Chromium\";v=\"101\", \"Microsoft Edge\";v=\"101\"',\n",
    "                     \"sec-ch-ua-mobile\": '?0',\n",
    "                     \"Accept\": \"text/html,application/xhtml+xml,application/xml;q=0.9,image/webp,image/apng,*/*;q=0.8,application/signed-exchange;v=b3;q=0.9\",\n",
    "                     \"Sec-Fetch-User\": \"?1\",\n",
    "                     \"Sec-Fetch-Site\": \"none\",\n",
    "                     \"Sec-Fetch-Mode\": \"navigate\",\n",
    "                     \"Sec-Fetch-Dest\": \"document\",\n",
    "                     \"Accept\": \"text/html,application/xhtml+xml,application/xml;q=0.9,image/webp,image/apng,*/*;q=0.8,application/signed-exchange;v=b3;q=0.9\",\n",
    "                     \"Accept-Encoding\": \"gzip, deflate, br\",\n",
    "                     \"Accept-Language\": \"en-US,en;q=0.9\",\n",
    "                     \"Cookie\": \"did=zp8vP15CGPkm8uJhry60BLeiaOSKZW8p51UupMljAdqP7WMnERbTEfnOEdkUTTE6; ptc=RG1.81179579133230362.1653300988; __cf_bm=VPc7zYTygZZxFutIAXPHQpRxUBRoKo5DuX4.nIiFqY4-1653300988-0-AS9iIVhVUqqi7Se51WNYTtVymQf9Bcoz4j93uLiq8GlgX73WKpoRJDlUdo0r3fsgmlKXLudkfYdv3NWQ3R10So0=; sid=JwZkeNfoeKESm08f4EtenQVKDk2nKtHGd7oj2rLJlkcwYIZBWff4LHaT6fuoKhSCkGzqyR0Hw5NoUrpTSJnIQsBdhyT7H4gjE0OLNSdOG1q6SSiq5rFPqb1UCjy8nmQS\",\n",
    "                     \"Upgrade-Insecure-Requests\": \"1\",\n",
    "                     \"Cache-Control\": \"max-age=0\",\n",
    "                 }\n",
    "                 )\n",
    "print(r.request.headers)\n",
    "print()\n",
    "if r.status_code == 200:\n",
    "    with open(\"x.pdf\", 'wb') as f:\n",
    "        r.raw.decode_content = True\n",
    "        shutil.copyfileobj(r.raw, f)\n",
    "else:\n",
    "    print(\"Error downloading the file\")\n",
    "    print(r.status_code)\n",
    "    print(r.reason)\n"
   ]
  },
  {
   "cell_type": "code",
   "execution_count": 4,
   "metadata": {},
   "outputs": [],
   "source": [
    "url = \"https://www.researchgate.net/profile/Craig-Nevill-Manning/publication/2822711_Domain-Specific_Keyphrase_Extraction/links/0912f507c157a6f434000000/Domain-Specific-Keyphrase-Extraction.pdf?_sg%5B0%5D=nDCxU3Cjxs1rNOav5uYFV5vOGIppmSu8xCwidIrSVi27I79w_aqPVI-IK9KdUuo-_bBxjebeH2MpPA9gC-15hg.5T7XM8Vm1gxAXGWAFpcNwsp8Kd84B1hrJFcvMn6MpgSUxsPEHDEB9ct_jkRmw7xKLh5Dz1yr9YHP58jn_MYCFg&_sg%5B1%5D=Qyp3bxFYvVsK-PYgxBdo3qZglEoLVUnoxalwWOYDWoi_ZCXkKGUx_T2W5LliWjekUbyIRqC69dZi-MMKOxOU2Ymo-__Mxjb4UkYTIK3GfEQd.5T7XM8Vm1gxAXGWAFpcNwsp8Kd84B1hrJFcvMn6MpgSUxsPEHDEB9ct_jkRmw7xKLh5Dz1yr9YHP58jn_MYCFg&_iepl%5BgeneralViewId%5D=QYn7rsjvN7tnHFiu76Y9u4pX2y9nccvudIU9&_iepl%5Bcontexts%5D%5B0%5D=searchReact&_iepl%5BviewId%5D=fDuM1r3SPW94Rk91o311pQ0B6tRVYqqVnPAl&_iepl%5BsearchType%5D=publication&_iepl%5Bdata%5D%5BcountLessEqual20%5D=1&_iepl%5Bdata%5D%5BinteractedWithPosition1%5D=1&_iepl%5Bdata%5D%5BwithoutEnrichment%5D=1&_iepl%5Bposition%5D=1&_iepl%5BrgKey%5D=PB%3A2822711&_iepl%5BtargetEntityId%5D=PB%3A2822711&_iepl%5BinteractionType%5D=publicationDownload\"\n"
   ]
  },
  {
   "cell_type": "code",
   "execution_count": 11,
   "metadata": {},
   "outputs": [],
   "source": [
    "url = \"https://www.researchgate.net/profile/Corina-Florescu/publication/318596725_PositionRank_An_Unsupervised_Approach_to_Keyphrase_Extraction_from_Scholarly_Documents/links/5972182c0f7e9b40168fe63d/PositionRank-An-Unsupervised-Approach-to-Keyphrase-Extraction-from-Scholarly-Documents.pdf\"\n",
    "\n",
    "        \n"
   ]
  },
  {
   "cell_type": "code",
   "execution_count": 9,
   "metadata": {},
   "outputs": [],
   "source": [
    "import ssl\n",
    "import requests\n",
    "from requests.adapters import HTTPAdapter\n",
    "from urllib3.poolmanager import PoolManager\n",
    "from urllib3.util import ssl_\n",
    "\n",
    "CIPHERS = \"ECDHE-RSA-AES256-GCM-SHA384:ECDHE-ECDSA-AES256-GCM-SHA384:ECDHE-RSA-AES256-SHA384:ECDHE-ECDSA-AES256-SHA384:ECDHE-RSA-AES128-GCM-SHA256:ECDHE-RSA-AES128-SHA256:AES256-SHA\"\n",
    "\n",
    "\n",
    "class TLSAdapter(HTTPAdapter):\n",
    "\n",
    "    def __init__(self, ssl_options=0, *args, **kwargs):\n",
    "        self.ssl_options = ssl_options\n",
    "        super().__init__(*args, **kwargs)\n",
    "\n",
    "    def init_poolmanager(self, *args, **kwargs):\n",
    "        context = ssl_.create_urllib3_context(\n",
    "            ciphers=CIPHERS, cert_reqs=ssl.CERT_REQUIRED, options=self.ssl_options)\n",
    "        self.poolmanager = PoolManager(*args, ssl_context=context, **kwargs)\n",
    "\n",
    "\n",
    "def download(url, fName):\n",
    "    headers = {\n",
    "        \"User-Agent\": \"Mozilla/5.0 (Windows NT 10.0; Win64; x64) AppleWebKit/537.36 (KHTML, like Gecko) Chrome/101.0.4951.64 Safari/537.36 Edg/101.0.1210.53\",\n",
    "    }\n",
    "    adapter = TLSAdapter(ssl.OP_NO_TLSv1 | ssl.OP_NO_TLSv1_1)\n",
    "\n",
    "    with requests.session() as session:\n",
    "        session.mount('http://', adapter)\n",
    "        session.mount('https://', adapter)\n",
    "        response = session.get(url, headers=headers)\n",
    "        # print(response.status_code)  # 200\n",
    "        if response.status_code == 200:\n",
    "            with open(f\"data/papers_pdf/{fName}.pdf\", 'wb') as f:\n",
    "                f.write(response.content)\n",
    "            session.close()\n",
    "            return 0, 0\n",
    "        else:\n",
    "            session.close()\n",
    "            return response.status_code, response.reason\n"
   ]
  },
  {
   "cell_type": "code",
   "execution_count": 2,
   "metadata": {},
   "outputs": [],
   "source": [
    "import requests\n",
    "from requests.adapters import HTTPAdapter\n",
    "from requests.packages.urllib3.util.retry import Retry\n",
    "from requests.packages import urllib3\n",
    "urllib3.disable_warnings(urllib3.exceptions.InsecureRequestWarning)\n",
    "\n",
    "def downloadSS(url, fName):\n",
    "\theaders = {\n",
    "\t\t\"User-Agent\": \"Mozilla/5.0 (Windows NT 10.0; Win64; x64) AppleWebKit/537.36 (KHTML, like Gecko) Chrome/101.0.4951.64 Safari/537.36 Edg/101.0.1210.53\",\n",
    "\t}\n",
    "\n",
    "\tsession = requests.Session()\n",
    "\tsession = requests.Session()\n",
    "\tretry = Retry(connect=3, backoff_factor=0.5)\n",
    "\tadapter = HTTPAdapter(max_retries=retry)\n",
    "\tsession.mount('http://', adapter)\n",
    "\tsession.mount('https://', adapter)\n",
    "\tres = session.get(url,headers=headers,verify=False,timeout=30)\n",
    "\tif res.status_code == 200:\n",
    "\t\twith open(f\"data/papers_pdf/{fName}.pdf\", \"wb\") as f:\n",
    "\t\t\tf.write(res.content)\n",
    "\t\tsession.close()\n",
    "\t\treturn 0, 0\n",
    "\telse:\n",
    "\t\tsession.close()\n",
    "\t\treturn res.status_code, res.reason\n"
   ]
  },
  {
   "cell_type": "code",
   "execution_count": 12,
   "metadata": {},
   "outputs": [
    {
     "data": {
      "text/plain": [
       "(0, 0)"
      ]
     },
     "execution_count": 12,
     "metadata": {},
     "output_type": "execute_result"
    }
   ],
   "source": [
    "# http://aclweb.org/anthology//D/D14/D14-1150.pdf    406 Not Acceptable\n",
    "download(\"http://aclweb.org/anthology//D/D14/D14-1150.pdf\", 'new')\n"
   ]
  },
  {
   "cell_type": "code",
   "execution_count": 29,
   "metadata": {},
   "outputs": [
    {
     "data": {
      "text/plain": [
       "(0, 0)"
      ]
     },
     "execution_count": 29,
     "metadata": {},
     "output_type": "execute_result"
    }
   ],
   "source": [
    "downloadSS(\"http://aclweb.org/anthology//D/D14/D14-1150.pdf\", 'new')"
   ]
  },
  {
   "cell_type": "code",
   "execution_count": 3,
   "metadata": {},
   "outputs": [
    {
     "data": {
      "text/plain": [
       "(11361, 6)"
      ]
     },
     "execution_count": 3,
     "metadata": {},
     "output_type": "execute_result"
    }
   ],
   "source": [
    "inf = pd.read_csv(\"data/info/papers.csv\")\n",
    "inf.shape"
   ]
  },
  {
   "cell_type": "code",
   "execution_count": 7,
   "metadata": {},
   "outputs": [
    {
     "data": {
      "text/plain": [
       "(860, 8)"
      ]
     },
     "execution_count": 7,
     "metadata": {},
     "output_type": "execute_result"
    }
   ],
   "source": [
    "err = pd.read_csv(\"data/info/errors.csv\")\n",
    "err.shape"
   ]
  },
  {
   "cell_type": "code",
   "execution_count": 16,
   "metadata": {},
   "outputs": [
    {
     "data": {
      "text/plain": [
       "'4da29f6e-a531-4432-8eee-cc84a76cf625'"
      ]
     },
     "execution_count": 16,
     "metadata": {},
     "output_type": "execute_result"
    }
   ],
   "source": [
    "error_uuid = err['uuid'].tolist()\n",
    "error_uuid[1]"
   ]
  },
  {
   "cell_type": "code",
   "execution_count": 10,
   "metadata": {},
   "outputs": [
    {
     "data": {
      "text/plain": [
       "(64, 6)"
      ]
     },
     "execution_count": 10,
     "metadata": {},
     "output_type": "execute_result"
    }
   ],
   "source": [
    "not_found = pd.read_csv(\"data/info/not_found.csv\")\n",
    "not_found.shape"
   ]
  },
  {
   "cell_type": "code",
   "execution_count": 17,
   "metadata": {},
   "outputs": [
    {
     "data": {
      "text/plain": [
       "'2e260db8-e653-4d24-8c45-780d139097c7'"
      ]
     },
     "execution_count": 17,
     "metadata": {},
     "output_type": "execute_result"
    }
   ],
   "source": [
    "not_found_uuid = not_found['uuid'].tolist()\n",
    "not_found_uuid[1]\n"
   ]
  },
  {
   "cell_type": "code",
   "execution_count": 9,
   "metadata": {},
   "outputs": [
    {
     "data": {
      "text/plain": [
       "828"
      ]
     },
     "execution_count": 9,
     "metadata": {},
     "output_type": "execute_result"
    }
   ],
   "source": [
    "err.duplicated(subset=['uuid']).sum()"
   ]
  },
  {
   "cell_type": "code",
   "execution_count": 25,
   "metadata": {},
   "outputs": [
    {
     "data": {
      "text/plain": [
       "[{'uuid': 'b3623173-608a-4bcb-bf4d-146e165e5378',\n",
       "  'paper_id': '32448280ef3d03af2fb639bbe1b3709c4bb6c78a',\n",
       "  'title': 'Phrasier: a system for interactive document retrieval using keyphrases',\n",
       "  'paper_link': 'https://www.semanticscholar.org/paper/32448280ef3d03af2fb639bbe1b3709c4bb6c78a',\n",
       "  'doi': 'https://doi.org/10.1145/312624.312671',\n",
       "  'download_link': 'http://www.cs.waikato.ac.nz/~stevej/Research/PAPERS/sigir99.pdf'}]"
      ]
     },
     "execution_count": 25,
     "metadata": {},
     "output_type": "execute_result"
    }
   ],
   "source": [
    "dl = pd.read_csv(\"data/info/processed.csv\")\n",
    "dl_dict = dl.to_dict('records')\n",
    "uuids = [d['uuid'] for d in dl_dict]\n",
    "next_dl = inf[~inf['uuid'].isin(uuids)][:1]\n",
    "next_dl_dict = next_dl.to_dict('records')\n",
    "next_dl_dict\n"
   ]
  },
  {
   "cell_type": "code",
   "execution_count": 6,
   "metadata": {},
   "outputs": [
    {
     "name": "stdout",
     "output_type": "stream",
     "text": [
      "746\n"
     ]
    }
   ],
   "source": [
    "paperIds = [d['paper_id'] for d in dl_dict]\n",
    "print(len(paperIds))\n"
   ]
  },
  {
   "cell_type": "code",
   "execution_count": 20,
   "metadata": {},
   "outputs": [
    {
     "data": {
      "text/plain": [
       "(681, 2)"
      ]
     },
     "execution_count": 20,
     "metadata": {},
     "output_type": "execute_result"
    }
   ],
   "source": [
    "dl_done = dl[~dl['uuid'].isin(not_found_uuid+error_uuid)]\n",
    "dl_done.shape\n"
   ]
  },
  {
   "cell_type": "code",
   "execution_count": 26,
   "metadata": {},
   "outputs": [
    {
     "data": {
      "text/plain": [
       "299"
      ]
     },
     "execution_count": 26,
     "metadata": {},
     "output_type": "execute_result"
    }
   ],
   "source": [
    "dl.duplicated(subset=['paper_id']).sum()"
   ]
  },
  {
   "cell_type": "code",
   "execution_count": 37,
   "metadata": {},
   "outputs": [
    {
     "data": {
      "text/plain": [
       "(459, 1)"
      ]
     },
     "execution_count": 37,
     "metadata": {},
     "output_type": "execute_result"
    }
   ],
   "source": [
    "done = pd.read_csv(\"data/info/done.csv\")\n",
    "done.shape\n"
   ]
  },
  {
   "cell_type": "code",
   "execution_count": 35,
   "metadata": {},
   "outputs": [
    {
     "data": {
      "text/plain": [
       "(682, 2)"
      ]
     },
     "execution_count": 35,
     "metadata": {},
     "output_type": "execute_result"
    }
   ],
   "source": [
    "dn = dl[dl['paper_id'].isin(done['done'])]\n",
    "dn.shape"
   ]
  },
  {
   "cell_type": "code",
   "execution_count": 38,
   "metadata": {},
   "outputs": [
    {
     "data": {
      "text/plain": [
       "0"
      ]
     },
     "execution_count": 38,
     "metadata": {},
     "output_type": "execute_result"
    }
   ],
   "source": [
    "done.duplicated().sum()\n"
   ]
  },
  {
   "cell_type": "code",
   "execution_count": 6,
   "metadata": {},
   "outputs": [],
   "source": [
    "def merge_dicts(*dict_args):\n",
    "    result = {}\n",
    "    for dictionary in dict_args:\n",
    "        result.update(dictionary)\n",
    "    return result\n"
   ]
  },
  {
   "cell_type": "code",
   "execution_count": 7,
   "metadata": {},
   "outputs": [
    {
     "name": "stdout",
     "output_type": "stream",
     "text": [
      "\n",
      "PositionRank: An Unsupervised Approach to Keyphrase Extraction from Scholarly Documents\n",
      "3\n",
      "downloading with link0: https://www.aclweb.org/anthology/P17-1102.pdf\n",
      "downloaded\n",
      "\n",
      "SemEval-2010 Task 5 : Automatic Keyphrase Extraction from Scientific Articles\n",
      "3\n",
      "downloading with link0: https://www.aclweb.org/anthology/S10-1004.pdf\n",
      "downloaded\n",
      "\n",
      "Citation-Enhanced Keyphrase Extraction from Research Papers: A Supervised Approach\n",
      "7\n",
      "downloading with link0: https://www.aclweb.org/anthology/D14-1150.pdf\n",
      "downloaded\n",
      "\n",
      "Geographically focused collaborative crawling\n",
      "3\n",
      "downloading with link0: http://www.cs.toronto.edu/~leehyun/4512-geo.pdf\n",
      "downloaded\n",
      "\n",
      "Automatic keyphrase extraction from scientific articles\n",
      "3\n",
      "downloading with link0: http://minerva-access.unimelb.edu.au/bitstream/11343/283246/1/10579_2012_9210_ReferencePDF.pdf\n",
      "downloaded\n",
      "\n",
      "Extracting Keyphrases from Research Papers Using Word Embeddings\n",
      "1\n",
      "downloading with link0: No links found\n",
      "\n",
      "Keyphrase Extraction in Scientific Publications\n",
      "2\n",
      "downloading with link0: http://www.comp.nus.edu.sg/~kanmy/papers/icadl2007.pdf\n",
      "downloaded\n",
      "\n",
      "Extracting Keyphrases from Research Papers Using Citation Networks\n",
      "2\n",
      "downloading with link0: http://www.cse.unt.edu/~ccaragea/papers/aaai14.pdf\n",
      "404 Not Found\n",
      "downloading with link1: http://people.cs.ksu.edu/~ccaragea/talks/fwmsh15.pdf\n",
      "downloaded\n",
      "\n",
      "Using Noun Phrase Heads to Extract Document Keyphrases\n",
      "1\n",
      "downloading with link0: No links found\n",
      "\n",
      "KP-Miner: Participation in SemEval-2\n",
      "2\n",
      "downloading with link0: https://www.aclweb.org/anthology/S10-1041.pdf\n",
      "downloaded\n",
      "\n",
      "Citation Summarization Through Keyphrase Extraction\n",
      "3\n",
      "downloading with link0: https://www.aclweb.org/anthology/C10-1101.pdf\n",
      "downloaded\n",
      "\n",
      "Automatic Keyphrase Extraction: A Survey of the State of the Art\n",
      "6\n",
      "downloading with link0: https://www.aclweb.org/anthology/P14-1119.pdf\n",
      "downloaded\n",
      "\n",
      "HUMB: Automatic Key Term Extraction from Scientific Articles in GROBID\n",
      "2\n",
      "downloading with link0: https://www.aclweb.org/anthology/S10-1055.pdf\n",
      "downloaded\n",
      "\n",
      "Conundrums in Unsupervised Keyphrase Extraction: Making Sense of the State-of-the-Art\n",
      "5\n",
      "downloading with link0: https://www.aclweb.org/anthology/C10-2042.pdf\n",
      "downloaded\n",
      "\n",
      "Phrasier: a system for interactive document retrieval using keyphrases\n",
      "1\n",
      "downloading with link0: http://www.cs.waikato.ac.nz/~stevej/Research/PAPERS/sigir99.pdf\n",
      "404 Not Found\n",
      "\n",
      "Building a Scientific Concept Hierarchy Database (SCHBase)\n",
      "3\n",
      "downloading with link0: https://www.aclweb.org/anthology/P15-1059.pdf\n",
      "downloaded\n",
      "\n",
      "Generic summarization and keyphrase extraction using mutual reinforcement principle and sentence clustering\n",
      "1\n",
      "downloading with link0: http://www.cc.gatech.edu/~zha/CS8803WST/sigir02.pdf\n",
      "downloaded\n",
      "\n",
      "Unsupervised Keyphrase Extraction: Introducing New Kinds of Words to Keyphrases\n",
      "1\n",
      "downloading with link0: No links found\n",
      "\n",
      "TopicRank: Graph-Based Topic Ranking for Keyphrase Extraction\n",
      "3\n",
      "downloading with link0: https://www.aclweb.org/anthology/I13-1062.pdf\n",
      "downloaded\n",
      "\n",
      "Learning Algorithms for Keyphrase Extraction\n",
      "3\n",
      "downloading with link0: https://arxiv.org/pdf/cs/0212020.pdf\n",
      "downloaded\n",
      "\n",
      "CiteSeer: an automatic citation indexing system\n",
      "2\n",
      "downloading with link0: http://clgiles.ist.psu.edu/papers/DL-1998-citeseer.pdf\n",
      "downloaded\n",
      "\n",
      "Improved Automatic Keyword Extraction Given More Linguistic Knowledge\n",
      "2\n",
      "downloading with link0: https://www.aclweb.org/anthology/W03-1028.pdf\n",
      "downloaded\n",
      "\n",
      "TextRank: Bringing Order into Text\n",
      "3\n",
      "downloading with link0: https://www.aclweb.org/anthology/W04-3252.pdf\n",
      "downloaded\n",
      "\n",
      "Automatic Keyphrase Extraction via Topic Decomposition\n",
      "4\n",
      "downloading with link0: https://www.aclweb.org/anthology/D10-1036.pdf\n",
      "downloaded\n",
      "\n",
      "Human-competitive tagging using automatic keyphrase extraction\n",
      "4\n",
      "downloading with link0: https://www.aclweb.org/anthology/D09-1137.pdf\n",
      "downloaded\n",
      "\n",
      "Coherent Citation-Based Summarization of Scientific Papers\n",
      "2\n",
      "downloading with link0: https://www.aclweb.org/anthology/P11-1051.pdf\n",
      "downloaded\n",
      "\n",
      "Single Document Keyphrase Extraction Using Neighborhood Knowledge\n",
      "2\n",
      "downloading with link0: http://www.aaai.org/Papers/AAAI/2008/AAAI08-136.pdf\n",
      "downloaded\n",
      "\n",
      "CorePhrase: Keyphrase Extraction for Document Clustering\n",
      "2\n",
      "downloading with link0: http://dl.ifip.org/db/conf/mldm/mldm2005/HammoudaMK05.pdf\n",
      "downloaded\n",
      "\n",
      "“Without the clutter of unimportant words”: Descriptive keyphrases for text visualization\n",
      "2\n",
      "downloading with link0: http://idl.cs.washington.edu/files/2012-Keyphrases-TOCHI.pdf\n",
      "downloaded\n",
      "\n",
      "Domain-Specific Keyphrase Extraction\n",
      "4\n",
      "downloading with link0: http://ijcai.org/Proceedings/99-2/Papers/002.pdf\n",
      "downloaded\n"
     ]
    }
   ],
   "source": [
    "dl = pd.read_csv(\"data/info/processed.csv\")\n",
    "dl_dict = dl.to_dict('records')\n",
    "uuids = [d['uuid'] for d in dl_dict]\n",
    "paperIds = [d['paper_id'] for d in dl_dict]\n",
    "next_dl = inf[~inf['uuid'].isin(uuids)]\n",
    "next_dl_dict = next_dl.to_dict('records')#[:10]\n",
    "next_dl_dict\n",
    "\n",
    "for d in next_dl_dict:\n",
    "\tpaper_id = d['paper_id']\n",
    "\tuuid = d['uuid']\n",
    "\tdownload_links = d['download_link']\n",
    "\ttitle = d['title']\n",
    "\tlinks = download_links.split(\";\")\n",
    "\tprint()\n",
    "\tsuccess = False\n",
    "\terrors = []\n",
    "\tprint(title)\n",
    "\tprint(len(links))\n",
    "\tfor i,link in enumerate(links):\n",
    "\t\tprint(f\"downloading with link{i}: {link}\")\n",
    "\t\tif link == 'No links found':\n",
    "\t\t\tnf = pd.DataFrame([d])\n",
    "\t\t\tnf.to_csv(\"data/info/not_found.csv\", index=False, header=False, mode=\"a\")\n",
    "\t\t\tpDf = pd.DataFrame([{\n",
    "\t\t\t\t\t\t\t'uuid': uuid,\n",
    "\t\t\t\t\t\t\t'paper_id': paper_id,\n",
    "\t\t\t\t\t\t}])\n",
    "\t\t\tpDf.to_csv(\"data/info/processed.csv\",\n",
    "\t\t\t\t\t\tindex=False, header=False, mode=\"a\")\t\t\t\n",
    "\t\telse:\n",
    "\t\t\t# already downloaded this paper before\n",
    "\t\t\tif paper_id in paperIds:\n",
    "\t\t\t\tdlDf = pd.DataFrame([{\n",
    "\t\t\t\t\t\t\t\t'uuid': uuid,\n",
    "\t\t\t\t\t\t\t\t'paper_id': paper_id,\n",
    "\t\t\t\t\t\t\t}])\n",
    "\t\t\t\tdlDf.to_csv(\"data/info/processed.csv\",\n",
    "\t\t\t\t\t\t\tindex=False, header=False, mode=\"a\")\n",
    "\t\t\t\tprint(\"already downloaded\")\n",
    "\t\t\t\tbreak\n",
    "\t\t\t# download the paper\n",
    "\t\t\telse:\n",
    "\t\t\t\ttry:\n",
    "\t\t\t\t\tcode, reason = downloadSS(link, paper_id)\n",
    "\t\t\t\t\tif code == 0:\n",
    "\t\t\t\t\t\tdlDf = pd.DataFrame([{\n",
    "\t\t\t\t\t\t\t\t\t\t'uuid': uuid,\n",
    "\t\t\t\t\t\t\t\t\t\t'paper_id': paper_id,\n",
    "\t\t\t\t\t\t\t\t\t}])\n",
    "\t\t\t\t\t\tdlDf.to_csv(\"data/info/processed.csv\",\n",
    "\t\t\t\t\t\t\t\t\tindex=False, header=False, mode=\"a\")\n",
    "\t\t\t\t\t\tprint(\"downloaded\")\n",
    "\t\t\t\t\t\tsuccess = True\n",
    "\t\t\t\t\t\t# no need to try other links\n",
    "\t\t\t\t\t\tbreak\n",
    "\t\t\t\t\telse:\n",
    "\t\t\t\t\t\tprint(f\"{code} {reason}\")\n",
    "\t\t\t\t\t\terrDict = merge_dicts(d,{'code': code, 'reason': reason})\n",
    "\t\t\t\t\t\terrors.append(errDict)\n",
    "\t\t\t\t\t\t\n",
    "\t\t\t\texcept Exception as e:\n",
    "\t\t\t\t\terrDict = merge_dicts(d, {'code': None, 'reason': reason})\n",
    "\t\t\t\t\terrors.append(errDict)\n",
    "\t\t\t\t\tprint(e)\n",
    "\t\t\t\t\t# break\n",
    "\tif not success:\n",
    "\t\tdlDf = pd.DataFrame(errors)\n",
    "\t\tdlDf.to_csv(\"data/info/errors.csv\", index=False, header=False, mode=\"a\")"
   ]
  },
  {
   "cell_type": "code",
   "execution_count": 7,
   "metadata": {},
   "outputs": [
    {
     "data": {
      "text/plain": [
       "106"
      ]
     },
     "execution_count": 7,
     "metadata": {},
     "output_type": "execute_result"
    }
   ],
   "source": [
    "papers_list = pd.read_csv(\"data/info/info_full.csv\")\n",
    "papers_list['download_link'].isnull().sum()\n"
   ]
  },
  {
   "cell_type": "code",
   "execution_count": 8,
   "metadata": {},
   "outputs": [
    {
     "data": {
      "text/plain": [
       "(3639, 12)"
      ]
     },
     "execution_count": 8,
     "metadata": {},
     "output_type": "execute_result"
    }
   ],
   "source": [
    "# get all papers that is not null\n",
    "paperDown = papers_list[papers_list['download_link'].notnull()]\n",
    "paperDown.shape"
   ]
  },
  {
   "cell_type": "code",
   "execution_count": 9,
   "metadata": {},
   "outputs": [],
   "source": [
    "downloaded = pd.read_csv(\"data/info/downloaded.csv\")\n",
    "downloadedIds = downloaded['id'].tolist()"
   ]
  },
  {
   "cell_type": "code",
   "execution_count": 10,
   "metadata": {},
   "outputs": [
    {
     "data": {
      "text/plain": [
       "10"
      ]
     },
     "execution_count": 10,
     "metadata": {},
     "output_type": "execute_result"
    }
   ],
   "source": [
    "paperDownNext = paperDown[~paperDown['id'].isin(downloadedIds)]\n",
    "len(paperDownNext.head(n=10).to_dict('records'))\n"
   ]
  },
  {
   "cell_type": "code",
   "execution_count": 47,
   "metadata": {},
   "outputs": [
    {
     "name": "stdout",
     "output_type": "stream",
     "text": [
      "429\n",
      "Too Many Requests\n",
      "429\n",
      "Too Many Requests\n"
     ]
    }
   ],
   "source": [
    "paperDownList = paperDownNext.head(n=2).to_dict(orient='records')\n",
    "len(paperDownList)\n",
    "for paper in paperDownList:\n",
    "\tlink = paper['download_link']\n",
    "\tid = paper['id']\n",
    "\tstatus = download(id, link)\n",
    "\tif not status:\n",
    "\t\tprint(f\"{id} is downloaded\")\n",
    "\t\tinfo = {\n",
    "\t\t\t'id': id\n",
    "\t\t}\n",
    "\t\tdf = pd.DataFrame([info])\n",
    "\t\tdf.to_csv(\"data/info/downloaded.csv\", mode='a', header=False, index=False)\n",
    "\telse:\n",
    "\t\tfor s in status:\n",
    "\t\t\tprint(s)\n"
   ]
  },
  {
   "cell_type": "code",
   "execution_count": 35,
   "metadata": {},
   "outputs": [
    {
     "data": {
      "text/plain": [
       "['8bde6cb8-296d-4593-883f-b768103e1e69',\n",
       " '8bde6cb8-296d-4593-883f-b768103e1e69',\n",
       " '41afce58-139f-48c2-a267-cd3db1d76e33',\n",
       " '41afce58-139f-48c2-a267-cd3db1d76e33']"
      ]
     },
     "execution_count": 35,
     "metadata": {},
     "output_type": "execute_result"
    }
   ],
   "source": [
    "downloaded = pd.read_csv(\"data/info/downloaded.csv\")\n",
    "downloadedIds = downloaded['id'].tolist()\n",
    "downloadedIds\n"
   ]
  },
  {
   "cell_type": "code",
   "execution_count": 27,
   "metadata": {},
   "outputs": [
    {
     "name": "stdout",
     "output_type": "stream",
     "text": [
      "empty\n"
     ]
    }
   ],
   "source": [
    "l = []\n",
    "if not l:\n",
    "\tprint(\"empty\")"
   ]
  },
  {
   "cell_type": "code",
   "execution_count": null,
   "metadata": {},
   "outputs": [],
   "source": []
  },
  {
   "cell_type": "markdown",
   "metadata": {},
   "source": [
    "## Utils"
   ]
  },
  {
   "cell_type": "code",
   "execution_count": 4,
   "metadata": {},
   "outputs": [
    {
     "name": "stdout",
     "output_type": "stream",
     "text": [
      "{'a': 1, 'b': 2}\n"
     ]
    }
   ],
   "source": [
    "def takeDict(d):\n",
    "\tprint(d)\n",
    "\n",
    "takeDict({'a': 1, 'b': 2})"
   ]
  },
  {
   "cell_type": "code",
   "execution_count": 24,
   "metadata": {},
   "outputs": [
    {
     "name": "stdout",
     "output_type": "stream",
     "text": [
      "1 2 0\n"
     ]
    }
   ],
   "source": [
    "def fn(a,b=0,c=0):\n",
    "\tprint(a,b,c)\n",
    "\t\n",
    "def takeDict(cb,d):\n",
    "\t# print(d)\n",
    "\tcb(**d)\n",
    "\t\n",
    "\n",
    "# TypeError: fn() got an unexpected keyword argument 'd'\n",
    "# takeDict(fn, {'a': 1, 'd': 2})\n",
    "takeDict(fn, {'a': 1, 'b': 2})\n"
   ]
  }
 ],
 "metadata": {
  "interpreter": {
   "hash": "13a64c48d63ab7fa89dd239a6172cf842d756bd82fcb4ba948a9115b41dc50a1"
  },
  "kernelspec": {
   "display_name": "Python 3.9.7 ('base')",
   "language": "python",
   "name": "python3"
  },
  "language_info": {
   "codemirror_mode": {
    "name": "ipython",
    "version": 3
   },
   "file_extension": ".py",
   "mimetype": "text/x-python",
   "name": "python",
   "nbconvert_exporter": "python",
   "pygments_lexer": "ipython3",
   "version": "3.9.7"
  },
  "orig_nbformat": 4
 },
 "nbformat": 4,
 "nbformat_minor": 2
}
