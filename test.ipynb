{
 "cells": [
  {
   "cell_type": "code",
   "execution_count": 1,
   "metadata": {},
   "outputs": [],
   "source": [
    "import pandas as pd\n",
    "from pprint import pprint\n",
    "from IPython.display import display"
   ]
  },
  {
   "cell_type": "markdown",
   "metadata": {},
   "source": [
    "## Pdf Downloader"
   ]
  },
  {
   "cell_type": "code",
   "execution_count": 2,
   "metadata": {},
   "outputs": [],
   "source": [
    "dlink = \"https://www.researchgate.net/profile/Corina-Florescu/publication/318596725_PositionRank_An_Unsupervised_Approach_to_Keyphrase_Extraction_from_Scholarly_Documents/links/5972182c0f7e9b40168fe63d/PositionRank-An-Unsupervised-Approach-to-Keyphrase-Extraction-from-Scholarly-Documents.pdf\"\n"
   ]
  },
  {
   "cell_type": "code",
   "execution_count": 10,
   "metadata": {},
   "outputs": [
    {
     "name": "stdout",
     "output_type": "stream",
     "text": [
      "{'User-Agent': 'Mozilla/5.0 (Windows NT 10.0; Win64; x64) AppleWebKit/537.36 (KHTML, like Gecko) Chrome/101.0.4951.64 Safari/537.36 Edg/101.0.1210.53', 'Accept-Encoding': 'gzip, deflate, br', 'Accept': 'text/html,application/xhtml+xml,application/xml;q=0.9,image/webp,image/apng,*/*;q=0.8,application/signed-exchange;v=b3;q=0.9', 'Connection': 'keep-alive', 'sec-ch-ua-platform': '\"Windows\"', 'sec-ch-ua': '\" Not A;Brand\";v=\"99\", \"Chromium\";v=\"101\", \"Microsoft Edge\";v=\"101\"', 'sec-ch-ua-mobile': '?0', 'Sec-Fetch-User': '?1', 'Sec-Fetch-Site': 'none', 'Sec-Fetch-Mode': 'navigate', 'Sec-Fetch-Dest': 'document', 'Accept-Language': 'en-US,en;q=0.9', 'Cookie': 'did=zp8vP15CGPkm8uJhry60BLeiaOSKZW8p51UupMljAdqP7WMnERbTEfnOEdkUTTE6; ptc=RG1.81179579133230362.1653300988; __cf_bm=VPc7zYTygZZxFutIAXPHQpRxUBRoKo5DuX4.nIiFqY4-1653300988-0-AS9iIVhVUqqi7Se51WNYTtVymQf9Bcoz4j93uLiq8GlgX73WKpoRJDlUdo0r3fsgmlKXLudkfYdv3NWQ3R10So0=; sid=JwZkeNfoeKESm08f4EtenQVKDk2nKtHGd7oj2rLJlkcwYIZBWff4LHaT6fuoKhSCkGzqyR0Hw5NoUrpTSJnIQsBdhyT7H4gjE0OLNSdOG1q6SSiq5rFPqb1UCjy8nmQS', 'Upgrade-Insecure-Requests': '1', 'Cache-Control': 'max-age=0'}\n",
      "\n",
      "Error downloading the file\n",
      "403\n",
      "Forbidden\n"
     ]
    }
   ],
   "source": [
    "import requests\n",
    "import shutil\n",
    "dlink = \"https://www.researchgate.net/profile/Corina-Florescu/publication/318596725_PositionRank_An_Unsupervised_Approach_to_Keyphrase_Extraction_from_Scholarly_Documents/links/5972182c0f7e9b40168fe63d/PositionRank-An-Unsupervised-Approach-to-Keyphrase-Extraction-from-Scholarly-Documents.pdf\"\n",
    "\n",
    "r = requests.get(dlink, stream=True,\n",
    "                 headers={\n",
    "                     \"User-Agent\": 'Mozilla/5.0 (Windows NT 10.0; Win64; x64) AppleWebKit/537.36 (KHTML, like Gecko) Chrome/101.0.4951.64 Safari/537.36 Edg/101.0.1210.53',\n",
    "                     \"sec-ch-ua-platform\": '\"Windows\"',\n",
    "                     \"sec-ch-ua\": '\" Not A;Brand\";v=\"99\", \"Chromium\";v=\"101\", \"Microsoft Edge\";v=\"101\"',\n",
    "                     \"sec-ch-ua-mobile\": '?0',\n",
    "                     \"Accept\": \"text/html,application/xhtml+xml,application/xml;q=0.9,image/webp,image/apng,*/*;q=0.8,application/signed-exchange;v=b3;q=0.9\",\n",
    "                     \"Sec-Fetch-User\": \"?1\",\n",
    "                     \"Sec-Fetch-Site\": \"none\",\n",
    "                     \"Sec-Fetch-Mode\": \"navigate\",\n",
    "                     \"Sec-Fetch-Dest\": \"document\",\n",
    "                     \"Accept\": \"text/html,application/xhtml+xml,application/xml;q=0.9,image/webp,image/apng,*/*;q=0.8,application/signed-exchange;v=b3;q=0.9\",\n",
    "                     \"Accept-Encoding\": \"gzip, deflate, br\",\n",
    "                     \"Accept-Language\": \"en-US,en;q=0.9\",\n",
    "                     \"Cookie\": \"did=zp8vP15CGPkm8uJhry60BLeiaOSKZW8p51UupMljAdqP7WMnERbTEfnOEdkUTTE6; ptc=RG1.81179579133230362.1653300988; __cf_bm=VPc7zYTygZZxFutIAXPHQpRxUBRoKo5DuX4.nIiFqY4-1653300988-0-AS9iIVhVUqqi7Se51WNYTtVymQf9Bcoz4j93uLiq8GlgX73WKpoRJDlUdo0r3fsgmlKXLudkfYdv3NWQ3R10So0=; sid=JwZkeNfoeKESm08f4EtenQVKDk2nKtHGd7oj2rLJlkcwYIZBWff4LHaT6fuoKhSCkGzqyR0Hw5NoUrpTSJnIQsBdhyT7H4gjE0OLNSdOG1q6SSiq5rFPqb1UCjy8nmQS\",\n",
    "                     \"Upgrade-Insecure-Requests\": \"1\",\n",
    "                     \"Cache-Control\": \"max-age=0\",\n",
    "                 }\n",
    "                 )\n",
    "print(r.request.headers)\n",
    "print()\n",
    "if r.status_code == 200:\n",
    "    with open(\"x.pdf\", 'wb') as f:\n",
    "        r.raw.decode_content = True\n",
    "        shutil.copyfileobj(r.raw, f)\n",
    "else:\n",
    "    print(\"Error downloading the file\")\n",
    "    print(r.status_code)\n",
    "    print(r.reason)\n"
   ]
  },
  {
   "cell_type": "code",
   "execution_count": 4,
   "metadata": {},
   "outputs": [],
   "source": [
    "url = \"https://www.researchgate.net/profile/Craig-Nevill-Manning/publication/2822711_Domain-Specific_Keyphrase_Extraction/links/0912f507c157a6f434000000/Domain-Specific-Keyphrase-Extraction.pdf?_sg%5B0%5D=nDCxU3Cjxs1rNOav5uYFV5vOGIppmSu8xCwidIrSVi27I79w_aqPVI-IK9KdUuo-_bBxjebeH2MpPA9gC-15hg.5T7XM8Vm1gxAXGWAFpcNwsp8Kd84B1hrJFcvMn6MpgSUxsPEHDEB9ct_jkRmw7xKLh5Dz1yr9YHP58jn_MYCFg&_sg%5B1%5D=Qyp3bxFYvVsK-PYgxBdo3qZglEoLVUnoxalwWOYDWoi_ZCXkKGUx_T2W5LliWjekUbyIRqC69dZi-MMKOxOU2Ymo-__Mxjb4UkYTIK3GfEQd.5T7XM8Vm1gxAXGWAFpcNwsp8Kd84B1hrJFcvMn6MpgSUxsPEHDEB9ct_jkRmw7xKLh5Dz1yr9YHP58jn_MYCFg&_iepl%5BgeneralViewId%5D=QYn7rsjvN7tnHFiu76Y9u4pX2y9nccvudIU9&_iepl%5Bcontexts%5D%5B0%5D=searchReact&_iepl%5BviewId%5D=fDuM1r3SPW94Rk91o311pQ0B6tRVYqqVnPAl&_iepl%5BsearchType%5D=publication&_iepl%5Bdata%5D%5BcountLessEqual20%5D=1&_iepl%5Bdata%5D%5BinteractedWithPosition1%5D=1&_iepl%5Bdata%5D%5BwithoutEnrichment%5D=1&_iepl%5Bposition%5D=1&_iepl%5BrgKey%5D=PB%3A2822711&_iepl%5BtargetEntityId%5D=PB%3A2822711&_iepl%5BinteractionType%5D=publicationDownload\"\n"
   ]
  },
  {
   "cell_type": "code",
   "execution_count": 11,
   "metadata": {},
   "outputs": [],
   "source": [
    "url = \"https://www.researchgate.net/profile/Corina-Florescu/publication/318596725_PositionRank_An_Unsupervised_Approach_to_Keyphrase_Extraction_from_Scholarly_Documents/links/5972182c0f7e9b40168fe63d/PositionRank-An-Unsupervised-Approach-to-Keyphrase-Extraction-from-Scholarly-Documents.pdf\"\n",
    "\n",
    "        \n"
   ]
  },
  {
   "cell_type": "code",
   "execution_count": 9,
   "metadata": {},
   "outputs": [],
   "source": [
    "import ssl\n",
    "import requests\n",
    "from requests.adapters import HTTPAdapter\n",
    "from urllib3.poolmanager import PoolManager\n",
    "from urllib3.util import ssl_\n",
    "\n",
    "CIPHERS = \"ECDHE-RSA-AES256-GCM-SHA384:ECDHE-ECDSA-AES256-GCM-SHA384:ECDHE-RSA-AES256-SHA384:ECDHE-ECDSA-AES256-SHA384:ECDHE-RSA-AES128-GCM-SHA256:ECDHE-RSA-AES128-SHA256:AES256-SHA\"\n",
    "\n",
    "\n",
    "class TLSAdapter(HTTPAdapter):\n",
    "\n",
    "    def __init__(self, ssl_options=0, *args, **kwargs):\n",
    "        self.ssl_options = ssl_options\n",
    "        super().__init__(*args, **kwargs)\n",
    "\n",
    "    def init_poolmanager(self, *args, **kwargs):\n",
    "        context = ssl_.create_urllib3_context(\n",
    "            ciphers=CIPHERS, cert_reqs=ssl.CERT_REQUIRED, options=self.ssl_options)\n",
    "        self.poolmanager = PoolManager(*args, ssl_context=context, **kwargs)\n",
    "\n",
    "\n",
    "def download(url, fName):\n",
    "    headers = {\n",
    "        \"User-Agent\": \"Mozilla/5.0 (Windows NT 10.0; Win64; x64) AppleWebKit/537.36 (KHTML, like Gecko) Chrome/101.0.4951.64 Safari/537.36 Edg/101.0.1210.53\",\n",
    "    }\n",
    "    adapter = TLSAdapter(ssl.OP_NO_TLSv1 | ssl.OP_NO_TLSv1_1)\n",
    "\n",
    "    with requests.session() as session:\n",
    "        session.mount('http://', adapter)\n",
    "        session.mount('https://', adapter)\n",
    "        response = session.get(url, headers=headers)\n",
    "        # print(response.status_code)  # 200\n",
    "        if response.status_code == 200:\n",
    "            with open(f\"data/papers_pdf/{fName}.pdf\", 'wb') as f:\n",
    "                f.write(response.content)\n",
    "            session.close()\n",
    "            return 0, 0\n",
    "        else:\n",
    "            session.close()\n",
    "            return response.status_code, response.reason\n"
   ]
  },
  {
   "cell_type": "code",
   "execution_count": 2,
   "metadata": {},
   "outputs": [],
   "source": [
    "import requests\n",
    "from requests.adapters import HTTPAdapter\n",
    "from requests.packages.urllib3.util.retry import Retry\n",
    "from requests.packages import urllib3\n",
    "urllib3.disable_warnings(urllib3.exceptions.InsecureRequestWarning)\n",
    "\n",
    "def downloadSS(url, fName):\n",
    "\theaders = {\n",
    "\t\t\"User-Agent\": \"Mozilla/5.0 (Windows NT 10.0; Win64; x64) AppleWebKit/537.36 (KHTML, like Gecko) Chrome/101.0.4951.64 Safari/537.36 Edg/101.0.1210.53\",\n",
    "\t}\n",
    "\n",
    "\tsession = requests.Session()\n",
    "\tsession = requests.Session()\n",
    "\tretry = Retry(connect=3, backoff_factor=0.5)\n",
    "\tadapter = HTTPAdapter(max_retries=retry)\n",
    "\tsession.mount('http://', adapter)\n",
    "\tsession.mount('https://', adapter)\n",
    "\tres = session.get(url,headers=headers,verify=False,timeout=30)\n",
    "\tif res.status_code == 200:\n",
    "\t\twith open(f\"data/papers_pdf/{fName}.pdf\", \"wb\") as f:\n",
    "\t\t\tf.write(res.content)\n",
    "\t\tsession.close()\n",
    "\t\treturn 0, 0\n",
    "\telse:\n",
    "\t\tsession.close()\n",
    "\t\treturn res.status_code, res.reason\n"
   ]
  },
  {
   "cell_type": "code",
   "execution_count": 12,
   "metadata": {},
   "outputs": [
    {
     "data": {
      "text/plain": [
       "(0, 0)"
      ]
     },
     "execution_count": 12,
     "metadata": {},
     "output_type": "execute_result"
    }
   ],
   "source": [
    "# http://aclweb.org/anthology//D/D14/D14-1150.pdf    406 Not Acceptable\n",
    "download(\"http://aclweb.org/anthology//D/D14/D14-1150.pdf\", 'new')\n"
   ]
  },
  {
   "cell_type": "code",
   "execution_count": 29,
   "metadata": {},
   "outputs": [
    {
     "data": {
      "text/plain": [
       "(0, 0)"
      ]
     },
     "execution_count": 29,
     "metadata": {},
     "output_type": "execute_result"
    }
   ],
   "source": [
    "downloadSS(\"http://aclweb.org/anthology//D/D14/D14-1150.pdf\", 'new')"
   ]
  },
  {
   "cell_type": "code",
   "execution_count": 36,
   "metadata": {},
   "outputs": [
    {
     "data": {
      "text/plain": [
       "(26367, 6)"
      ]
     },
     "execution_count": 36,
     "metadata": {},
     "output_type": "execute_result"
    }
   ],
   "source": [
    "inf = pd.read_csv(\"data/info/papers.csv\")\n",
    "inf.shape"
   ]
  },
  {
   "cell_type": "code",
   "execution_count": 117,
   "metadata": {},
   "outputs": [
    {
     "data": {
      "text/plain": [
       "(6013, 2)"
      ]
     },
     "execution_count": 117,
     "metadata": {},
     "output_type": "execute_result"
    }
   ],
   "source": [
    "done  = pd.read_csv(\"data/info/done.csv\")\n",
    "done.shape"
   ]
  },
  {
   "cell_type": "code",
   "execution_count": 106,
   "metadata": {},
   "outputs": [
    {
     "data": {
      "text/plain": [
       "2420"
      ]
     },
     "execution_count": 106,
     "metadata": {},
     "output_type": "execute_result"
    }
   ],
   "source": [
    "import pandas as pd\n",
    "done = pd.read_csv(\"data/info/done.csv\")\n",
    "done.paper_id.nunique()\n"
   ]
  },
  {
   "cell_type": "code",
   "execution_count": 107,
   "metadata": {},
   "outputs": [
    {
     "data": {
      "text/plain": [
       "(2368,)"
      ]
     },
     "execution_count": 107,
     "metadata": {},
     "output_type": "execute_result"
    }
   ],
   "source": [
    "files = pd.read_csv(\"files_list.csv\")\n",
    "files = files.done.unique()\n",
    "files.shape"
   ]
  },
  {
   "cell_type": "code",
   "execution_count": 110,
   "metadata": {},
   "outputs": [
    {
     "name": "stdout",
     "output_type": "stream",
     "text": [
      "(166, 2)\n"
     ]
    },
    {
     "data": {
      "text/html": [
       "<div>\n",
       "<style scoped>\n",
       "    .dataframe tbody tr th:only-of-type {\n",
       "        vertical-align: middle;\n",
       "    }\n",
       "\n",
       "    .dataframe tbody tr th {\n",
       "        vertical-align: top;\n",
       "    }\n",
       "\n",
       "    .dataframe thead th {\n",
       "        text-align: right;\n",
       "    }\n",
       "</style>\n",
       "<table border=\"1\" class=\"dataframe\">\n",
       "  <thead>\n",
       "    <tr style=\"text-align: right;\">\n",
       "      <th></th>\n",
       "      <th>uuid</th>\n",
       "      <th>paper_id</th>\n",
       "    </tr>\n",
       "  </thead>\n",
       "  <tbody>\n",
       "    <tr>\n",
       "      <th>828</th>\n",
       "      <td>ae1d5570-bbb1-4d79-bc98-e31c4d44e4fe</td>\n",
       "      <td>4f09e6ec1b7d4390d23881852fd7240994abeb58</td>\n",
       "    </tr>\n",
       "    <tr>\n",
       "      <th>901</th>\n",
       "      <td>76aac0c1-2c15-428c-bba1-1261961033ed</td>\n",
       "      <td>32bbef1c8bb76636839f27c016080744f5749317</td>\n",
       "    </tr>\n",
       "    <tr>\n",
       "      <th>916</th>\n",
       "      <td>f2156e37-045d-4af2-8bcf-940fb118a325</td>\n",
       "      <td>eade94f3070fad61d172c27a6ddd09aafeac45f0</td>\n",
       "    </tr>\n",
       "    <tr>\n",
       "      <th>1044</th>\n",
       "      <td>641ad923-f654-4f2b-aa20-04743527a75a</td>\n",
       "      <td>32448280ef3d03af2fb639bbe1b3709c4bb6c78a</td>\n",
       "    </tr>\n",
       "    <tr>\n",
       "      <th>1072</th>\n",
       "      <td>8229fe42-274d-431d-8089-13e4345cf4ea</td>\n",
       "      <td>2cfcae505ea3a95388ca0c535a30ce7b0b6c03fd</td>\n",
       "    </tr>\n",
       "    <tr>\n",
       "      <th>...</th>\n",
       "      <td>...</td>\n",
       "      <td>...</td>\n",
       "    </tr>\n",
       "    <tr>\n",
       "      <th>5836</th>\n",
       "      <td>d45689bc-64fc-40df-bf86-1bb6f13d4f24</td>\n",
       "      <td>6b3853f08c482fe1bfbe39d656d50a8c73976f3c</td>\n",
       "    </tr>\n",
       "    <tr>\n",
       "      <th>5855</th>\n",
       "      <td>b5ffc7fe-6aa3-45c3-b25d-b06e3e56a22e</td>\n",
       "      <td>8937f6ecd5e19b85c2875bad3e10e320fd15623b</td>\n",
       "    </tr>\n",
       "    <tr>\n",
       "      <th>5912</th>\n",
       "      <td>5bb5ebf0-6332-4722-8591-c8476671024a</td>\n",
       "      <td>3f2f6772d96d972e3b2da5aaa8a0f2feefdf827f</td>\n",
       "    </tr>\n",
       "    <tr>\n",
       "      <th>5922</th>\n",
       "      <td>f9b2de30-73bc-4813-a554-8998e022805e</td>\n",
       "      <td>4f09e6ec1b7d4390d23881852fd7240994abeb58</td>\n",
       "    </tr>\n",
       "    <tr>\n",
       "      <th>5924</th>\n",
       "      <td>1abbca41-a67a-4b46-8d44-dd0ef3ab7303</td>\n",
       "      <td>50a1a8883ac9c8c70c7d8674f996fb9704d10cc4</td>\n",
       "    </tr>\n",
       "  </tbody>\n",
       "</table>\n",
       "<p>166 rows × 2 columns</p>\n",
       "</div>"
      ],
      "text/plain": [
       "                                      uuid  \\\n",
       "828   ae1d5570-bbb1-4d79-bc98-e31c4d44e4fe   \n",
       "901   76aac0c1-2c15-428c-bba1-1261961033ed   \n",
       "916   f2156e37-045d-4af2-8bcf-940fb118a325   \n",
       "1044  641ad923-f654-4f2b-aa20-04743527a75a   \n",
       "1072  8229fe42-274d-431d-8089-13e4345cf4ea   \n",
       "...                                    ...   \n",
       "5836  d45689bc-64fc-40df-bf86-1bb6f13d4f24   \n",
       "5855  b5ffc7fe-6aa3-45c3-b25d-b06e3e56a22e   \n",
       "5912  5bb5ebf0-6332-4722-8591-c8476671024a   \n",
       "5922  f9b2de30-73bc-4813-a554-8998e022805e   \n",
       "5924  1abbca41-a67a-4b46-8d44-dd0ef3ab7303   \n",
       "\n",
       "                                      paper_id  \n",
       "828   4f09e6ec1b7d4390d23881852fd7240994abeb58  \n",
       "901   32bbef1c8bb76636839f27c016080744f5749317  \n",
       "916   eade94f3070fad61d172c27a6ddd09aafeac45f0  \n",
       "1044  32448280ef3d03af2fb639bbe1b3709c4bb6c78a  \n",
       "1072  2cfcae505ea3a95388ca0c535a30ce7b0b6c03fd  \n",
       "...                                        ...  \n",
       "5836  6b3853f08c482fe1bfbe39d656d50a8c73976f3c  \n",
       "5855  8937f6ecd5e19b85c2875bad3e10e320fd15623b  \n",
       "5912  3f2f6772d96d972e3b2da5aaa8a0f2feefdf827f  \n",
       "5922  4f09e6ec1b7d4390d23881852fd7240994abeb58  \n",
       "5924  50a1a8883ac9c8c70c7d8674f996fb9704d10cc4  \n",
       "\n",
       "[166 rows x 2 columns]"
      ]
     },
     "execution_count": 110,
     "metadata": {},
     "output_type": "execute_result"
    }
   ],
   "source": [
    "missing = done[~done['paper_id'].isin(files)]\n",
    "print(missing.shape)\n",
    "missing"
   ]
  },
  {
   "cell_type": "code",
   "execution_count": 115,
   "metadata": {},
   "outputs": [
    {
     "data": {
      "text/plain": [
       "(6734, 2)"
      ]
     },
     "execution_count": 115,
     "metadata": {},
     "output_type": "execute_result"
    }
   ],
   "source": [
    "dl = pd.read_csv(\"data/info/processed.csv\")\n",
    "dl = dl[~dl['uuid'].isin(missing.uuid)]\n",
    "dl.shape"
   ]
  },
  {
   "cell_type": "code",
   "execution_count": 116,
   "metadata": {},
   "outputs": [],
   "source": [
    "dl.to_csv(\"data/info/processed.csv\", index=False)"
   ]
  },
  {
   "cell_type": "code",
   "execution_count": 103,
   "metadata": {},
   "outputs": [],
   "source": [
    "missing_un = missing.paper_id.unique()"
   ]
  },
  {
   "cell_type": "code",
   "execution_count": 108,
   "metadata": {},
   "outputs": [
    {
     "data": {
      "text/html": [
       "<div>\n",
       "<style scoped>\n",
       "    .dataframe tbody tr th:only-of-type {\n",
       "        vertical-align: middle;\n",
       "    }\n",
       "\n",
       "    .dataframe tbody tr th {\n",
       "        vertical-align: top;\n",
       "    }\n",
       "\n",
       "    .dataframe thead th {\n",
       "        text-align: right;\n",
       "    }\n",
       "</style>\n",
       "<table border=\"1\" class=\"dataframe\">\n",
       "  <thead>\n",
       "    <tr style=\"text-align: right;\">\n",
       "      <th></th>\n",
       "      <th>uuid</th>\n",
       "      <th>paper_id</th>\n",
       "    </tr>\n",
       "  </thead>\n",
       "  <tbody>\n",
       "    <tr>\n",
       "      <th>828</th>\n",
       "      <td>ae1d5570-bbb1-4d79-bc98-e31c4d44e4fe</td>\n",
       "      <td>4f09e6ec1b7d4390d23881852fd7240994abeb58</td>\n",
       "    </tr>\n",
       "    <tr>\n",
       "      <th>901</th>\n",
       "      <td>76aac0c1-2c15-428c-bba1-1261961033ed</td>\n",
       "      <td>32bbef1c8bb76636839f27c016080744f5749317</td>\n",
       "    </tr>\n",
       "    <tr>\n",
       "      <th>916</th>\n",
       "      <td>f2156e37-045d-4af2-8bcf-940fb118a325</td>\n",
       "      <td>eade94f3070fad61d172c27a6ddd09aafeac45f0</td>\n",
       "    </tr>\n",
       "    <tr>\n",
       "      <th>1044</th>\n",
       "      <td>641ad923-f654-4f2b-aa20-04743527a75a</td>\n",
       "      <td>32448280ef3d03af2fb639bbe1b3709c4bb6c78a</td>\n",
       "    </tr>\n",
       "    <tr>\n",
       "      <th>1072</th>\n",
       "      <td>8229fe42-274d-431d-8089-13e4345cf4ea</td>\n",
       "      <td>2cfcae505ea3a95388ca0c535a30ce7b0b6c03fd</td>\n",
       "    </tr>\n",
       "    <tr>\n",
       "      <th>...</th>\n",
       "      <td>...</td>\n",
       "      <td>...</td>\n",
       "    </tr>\n",
       "    <tr>\n",
       "      <th>5836</th>\n",
       "      <td>d45689bc-64fc-40df-bf86-1bb6f13d4f24</td>\n",
       "      <td>6b3853f08c482fe1bfbe39d656d50a8c73976f3c</td>\n",
       "    </tr>\n",
       "    <tr>\n",
       "      <th>5855</th>\n",
       "      <td>b5ffc7fe-6aa3-45c3-b25d-b06e3e56a22e</td>\n",
       "      <td>8937f6ecd5e19b85c2875bad3e10e320fd15623b</td>\n",
       "    </tr>\n",
       "    <tr>\n",
       "      <th>5912</th>\n",
       "      <td>5bb5ebf0-6332-4722-8591-c8476671024a</td>\n",
       "      <td>3f2f6772d96d972e3b2da5aaa8a0f2feefdf827f</td>\n",
       "    </tr>\n",
       "    <tr>\n",
       "      <th>5922</th>\n",
       "      <td>f9b2de30-73bc-4813-a554-8998e022805e</td>\n",
       "      <td>4f09e6ec1b7d4390d23881852fd7240994abeb58</td>\n",
       "    </tr>\n",
       "    <tr>\n",
       "      <th>5924</th>\n",
       "      <td>1abbca41-a67a-4b46-8d44-dd0ef3ab7303</td>\n",
       "      <td>50a1a8883ac9c8c70c7d8674f996fb9704d10cc4</td>\n",
       "    </tr>\n",
       "  </tbody>\n",
       "</table>\n",
       "<p>166 rows × 2 columns</p>\n",
       "</div>"
      ],
      "text/plain": [
       "                                      uuid  \\\n",
       "828   ae1d5570-bbb1-4d79-bc98-e31c4d44e4fe   \n",
       "901   76aac0c1-2c15-428c-bba1-1261961033ed   \n",
       "916   f2156e37-045d-4af2-8bcf-940fb118a325   \n",
       "1044  641ad923-f654-4f2b-aa20-04743527a75a   \n",
       "1072  8229fe42-274d-431d-8089-13e4345cf4ea   \n",
       "...                                    ...   \n",
       "5836  d45689bc-64fc-40df-bf86-1bb6f13d4f24   \n",
       "5855  b5ffc7fe-6aa3-45c3-b25d-b06e3e56a22e   \n",
       "5912  5bb5ebf0-6332-4722-8591-c8476671024a   \n",
       "5922  f9b2de30-73bc-4813-a554-8998e022805e   \n",
       "5924  1abbca41-a67a-4b46-8d44-dd0ef3ab7303   \n",
       "\n",
       "                                      paper_id  \n",
       "828   4f09e6ec1b7d4390d23881852fd7240994abeb58  \n",
       "901   32bbef1c8bb76636839f27c016080744f5749317  \n",
       "916   eade94f3070fad61d172c27a6ddd09aafeac45f0  \n",
       "1044  32448280ef3d03af2fb639bbe1b3709c4bb6c78a  \n",
       "1072  2cfcae505ea3a95388ca0c535a30ce7b0b6c03fd  \n",
       "...                                        ...  \n",
       "5836  6b3853f08c482fe1bfbe39d656d50a8c73976f3c  \n",
       "5855  8937f6ecd5e19b85c2875bad3e10e320fd15623b  \n",
       "5912  3f2f6772d96d972e3b2da5aaa8a0f2feefdf827f  \n",
       "5922  4f09e6ec1b7d4390d23881852fd7240994abeb58  \n",
       "5924  50a1a8883ac9c8c70c7d8674f996fb9704d10cc4  \n",
       "\n",
       "[166 rows x 2 columns]"
      ]
     },
     "execution_count": 108,
     "metadata": {},
     "output_type": "execute_result"
    }
   ],
   "source": [
    "done[done['paper_id'].isin(missing_un)]"
   ]
  },
  {
   "cell_type": "code",
   "execution_count": null,
   "metadata": {},
   "outputs": [],
   "source": [
    "def merge_dicts(*dict_args):\n",
    "    result = {}\n",
    "    for dictionary in dict_args:\n",
    "        result.update(dictionary)\n",
    "    return result\n"
   ]
  },
  {
   "cell_type": "code",
   "execution_count": null,
   "metadata": {},
   "outputs": [
    {
     "name": "stdout",
     "output_type": "stream",
     "text": [
      "\n",
      "PositionRank: An Unsupervised Approach to Keyphrase Extraction from Scholarly Documents\n",
      "3\n",
      "downloading with link0: https://www.aclweb.org/anthology/P17-1102.pdf\n",
      "downloaded\n",
      "\n",
      "SemEval-2010 Task 5 : Automatic Keyphrase Extraction from Scientific Articles\n",
      "3\n",
      "downloading with link0: https://www.aclweb.org/anthology/S10-1004.pdf\n",
      "downloaded\n",
      "\n",
      "Citation-Enhanced Keyphrase Extraction from Research Papers: A Supervised Approach\n",
      "7\n",
      "downloading with link0: https://www.aclweb.org/anthology/D14-1150.pdf\n",
      "downloaded\n",
      "\n",
      "Geographically focused collaborative crawling\n",
      "3\n",
      "downloading with link0: http://www.cs.toronto.edu/~leehyun/4512-geo.pdf\n",
      "downloaded\n",
      "\n",
      "Automatic keyphrase extraction from scientific articles\n",
      "3\n",
      "downloading with link0: http://minerva-access.unimelb.edu.au/bitstream/11343/283246/1/10579_2012_9210_ReferencePDF.pdf\n",
      "downloaded\n",
      "\n",
      "Extracting Keyphrases from Research Papers Using Word Embeddings\n",
      "1\n",
      "downloading with link0: No links found\n",
      "\n",
      "Keyphrase Extraction in Scientific Publications\n",
      "2\n",
      "downloading with link0: http://www.comp.nus.edu.sg/~kanmy/papers/icadl2007.pdf\n",
      "downloaded\n",
      "\n",
      "Extracting Keyphrases from Research Papers Using Citation Networks\n",
      "2\n",
      "downloading with link0: http://www.cse.unt.edu/~ccaragea/papers/aaai14.pdf\n",
      "404 Not Found\n",
      "downloading with link1: http://people.cs.ksu.edu/~ccaragea/talks/fwmsh15.pdf\n",
      "downloaded\n",
      "\n",
      "Using Noun Phrase Heads to Extract Document Keyphrases\n",
      "1\n",
      "downloading with link0: No links found\n",
      "\n",
      "KP-Miner: Participation in SemEval-2\n",
      "2\n",
      "downloading with link0: https://www.aclweb.org/anthology/S10-1041.pdf\n",
      "downloaded\n",
      "\n",
      "Citation Summarization Through Keyphrase Extraction\n",
      "3\n",
      "downloading with link0: https://www.aclweb.org/anthology/C10-1101.pdf\n",
      "downloaded\n",
      "\n",
      "Automatic Keyphrase Extraction: A Survey of the State of the Art\n",
      "6\n",
      "downloading with link0: https://www.aclweb.org/anthology/P14-1119.pdf\n",
      "downloaded\n",
      "\n",
      "HUMB: Automatic Key Term Extraction from Scientific Articles in GROBID\n",
      "2\n",
      "downloading with link0: https://www.aclweb.org/anthology/S10-1055.pdf\n",
      "downloaded\n",
      "\n",
      "Conundrums in Unsupervised Keyphrase Extraction: Making Sense of the State-of-the-Art\n",
      "5\n",
      "downloading with link0: https://www.aclweb.org/anthology/C10-2042.pdf\n",
      "downloaded\n",
      "\n",
      "Phrasier: a system for interactive document retrieval using keyphrases\n",
      "1\n",
      "downloading with link0: http://www.cs.waikato.ac.nz/~stevej/Research/PAPERS/sigir99.pdf\n",
      "404 Not Found\n",
      "\n",
      "Building a Scientific Concept Hierarchy Database (SCHBase)\n",
      "3\n",
      "downloading with link0: https://www.aclweb.org/anthology/P15-1059.pdf\n",
      "downloaded\n",
      "\n",
      "Generic summarization and keyphrase extraction using mutual reinforcement principle and sentence clustering\n",
      "1\n",
      "downloading with link0: http://www.cc.gatech.edu/~zha/CS8803WST/sigir02.pdf\n",
      "downloaded\n",
      "\n",
      "Unsupervised Keyphrase Extraction: Introducing New Kinds of Words to Keyphrases\n",
      "1\n",
      "downloading with link0: No links found\n",
      "\n",
      "TopicRank: Graph-Based Topic Ranking for Keyphrase Extraction\n",
      "3\n",
      "downloading with link0: https://www.aclweb.org/anthology/I13-1062.pdf\n",
      "downloaded\n",
      "\n",
      "Learning Algorithms for Keyphrase Extraction\n",
      "3\n",
      "downloading with link0: https://arxiv.org/pdf/cs/0212020.pdf\n",
      "downloaded\n",
      "\n",
      "CiteSeer: an automatic citation indexing system\n",
      "2\n",
      "downloading with link0: http://clgiles.ist.psu.edu/papers/DL-1998-citeseer.pdf\n",
      "downloaded\n",
      "\n",
      "Improved Automatic Keyword Extraction Given More Linguistic Knowledge\n",
      "2\n",
      "downloading with link0: https://www.aclweb.org/anthology/W03-1028.pdf\n",
      "downloaded\n",
      "\n",
      "TextRank: Bringing Order into Text\n",
      "3\n",
      "downloading with link0: https://www.aclweb.org/anthology/W04-3252.pdf\n",
      "downloaded\n",
      "\n",
      "Automatic Keyphrase Extraction via Topic Decomposition\n",
      "4\n",
      "downloading with link0: https://www.aclweb.org/anthology/D10-1036.pdf\n",
      "downloaded\n",
      "\n",
      "Human-competitive tagging using automatic keyphrase extraction\n",
      "4\n",
      "downloading with link0: https://www.aclweb.org/anthology/D09-1137.pdf\n",
      "downloaded\n",
      "\n",
      "Coherent Citation-Based Summarization of Scientific Papers\n",
      "2\n",
      "downloading with link0: https://www.aclweb.org/anthology/P11-1051.pdf\n",
      "downloaded\n",
      "\n",
      "Single Document Keyphrase Extraction Using Neighborhood Knowledge\n",
      "2\n",
      "downloading with link0: http://www.aaai.org/Papers/AAAI/2008/AAAI08-136.pdf\n",
      "downloaded\n",
      "\n",
      "CorePhrase: Keyphrase Extraction for Document Clustering\n",
      "2\n",
      "downloading with link0: http://dl.ifip.org/db/conf/mldm/mldm2005/HammoudaMK05.pdf\n",
      "downloaded\n",
      "\n",
      "“Without the clutter of unimportant words”: Descriptive keyphrases for text visualization\n",
      "2\n",
      "downloading with link0: http://idl.cs.washington.edu/files/2012-Keyphrases-TOCHI.pdf\n",
      "downloaded\n",
      "\n",
      "Domain-Specific Keyphrase Extraction\n",
      "4\n",
      "downloading with link0: http://ijcai.org/Proceedings/99-2/Papers/002.pdf\n",
      "downloaded\n"
     ]
    }
   ],
   "source": [
    "dl = pd.read_csv(\"data/info/processed.csv\")\n",
    "dl_dict = dl.to_dict('records')\n",
    "uuids = [d['uuid'] for d in dl_dict]\n",
    "paperIds = [d['paper_id'] for d in dl_dict]\n",
    "next_dl = inf[~inf['uuid'].isin(uuids)]\n",
    "next_dl_dict = next_dl.to_dict('records')#[:10]\n",
    "next_dl_dict\n",
    "\n",
    "for d in next_dl_dict:\n",
    "\tpaper_id = d['paper_id']\n",
    "\tuuid = d['uuid']\n",
    "\tdownload_links = d['download_link']\n",
    "\ttitle = d['title']\n",
    "\tlinks = download_links.split(\";\")\n",
    "\tprint()\n",
    "\tsuccess = False\n",
    "\terrors = []\n",
    "\tprint(title)\n",
    "\tprint(len(links))\n",
    "\tfor i,link in enumerate(links):\n",
    "\t\tprint(f\"downloading with link{i}: {link}\")\n",
    "\t\tif link == 'No links found':\n",
    "\t\t\tnf = pd.DataFrame([d])\n",
    "\t\t\tnf.to_csv(\"data/info/not_found.csv\", index=False, header=False, mode=\"a\")\n",
    "\t\t\tpDf = pd.DataFrame([{\n",
    "\t\t\t\t\t\t\t'uuid': uuid,\n",
    "\t\t\t\t\t\t\t'paper_id': paper_id,\n",
    "\t\t\t\t\t\t}])\n",
    "\t\t\tpDf.to_csv(\"data/info/processed.csv\",\n",
    "\t\t\t\t\t\tindex=False, header=False, mode=\"a\")\t\t\t\n",
    "\t\telse:\n",
    "\t\t\t# already downloaded this paper before\n",
    "\t\t\tif paper_id in paperIds:\n",
    "\t\t\t\tdlDf = pd.DataFrame([{\n",
    "\t\t\t\t\t\t\t\t'uuid': uuid,\n",
    "\t\t\t\t\t\t\t\t'paper_id': paper_id,\n",
    "\t\t\t\t\t\t\t}])\n",
    "\t\t\t\tdlDf.to_csv(\"data/info/processed.csv\",\n",
    "\t\t\t\t\t\t\tindex=False, header=False, mode=\"a\")\n",
    "\t\t\t\tprint(\"already downloaded\")\n",
    "\t\t\t\tbreak\n",
    "\t\t\t# download the paper\n",
    "\t\t\telse:\n",
    "\t\t\t\ttry:\n",
    "\t\t\t\t\tcode, reason = downloadSS(link, paper_id)\n",
    "\t\t\t\t\tif code == 0:\n",
    "\t\t\t\t\t\tdlDf = pd.DataFrame([{\n",
    "\t\t\t\t\t\t\t\t\t\t'uuid': uuid,\n",
    "\t\t\t\t\t\t\t\t\t\t'paper_id': paper_id,\n",
    "\t\t\t\t\t\t\t\t\t}])\n",
    "\t\t\t\t\t\tdlDf.to_csv(\"data/info/processed.csv\",\n",
    "\t\t\t\t\t\t\t\t\tindex=False, header=False, mode=\"a\")\n",
    "\t\t\t\t\t\tprint(\"downloaded\")\n",
    "\t\t\t\t\t\tsuccess = True\n",
    "\t\t\t\t\t\t# no need to try other links\n",
    "\t\t\t\t\t\tbreak\n",
    "\t\t\t\t\telse:\n",
    "\t\t\t\t\t\tprint(f\"{code} {reason}\")\n",
    "\t\t\t\t\t\terrDict = merge_dicts(d,{'code': code, 'reason': reason})\n",
    "\t\t\t\t\t\terrors.append(errDict)\n",
    "\t\t\t\t\t\t\n",
    "\t\t\t\texcept Exception as e:\n",
    "\t\t\t\t\terrDict = merge_dicts(d, {'code': None, 'reason': reason})\n",
    "\t\t\t\t\terrors.append(errDict)\n",
    "\t\t\t\t\tprint(e)\n",
    "\t\t\t\t\t# break\n",
    "\tif not success:\n",
    "\t\tdlDf = pd.DataFrame(errors)\n",
    "\t\tdlDf.to_csv(\"data/info/errors.csv\", index=False, header=False, mode=\"a\")"
   ]
  },
  {
   "cell_type": "code",
   "execution_count": null,
   "metadata": {},
   "outputs": [
    {
     "data": {
      "text/plain": [
       "106"
      ]
     },
     "execution_count": 7,
     "metadata": {},
     "output_type": "execute_result"
    }
   ],
   "source": [
    "papers_list = pd.read_csv(\"data/info/info_full.csv\")\n",
    "papers_list['download_link'].isnull().sum()\n"
   ]
  },
  {
   "cell_type": "code",
   "execution_count": null,
   "metadata": {},
   "outputs": [
    {
     "data": {
      "text/plain": [
       "(3639, 12)"
      ]
     },
     "execution_count": 8,
     "metadata": {},
     "output_type": "execute_result"
    }
   ],
   "source": [
    "# get all papers that is not null\n",
    "paperDown = papers_list[papers_list['download_link'].notnull()]\n",
    "paperDown.shape"
   ]
  },
  {
   "cell_type": "code",
   "execution_count": null,
   "metadata": {},
   "outputs": [],
   "source": [
    "downloaded = pd.read_csv(\"data/info/downloaded.csv\")\n",
    "downloadedIds = downloaded['id'].tolist()"
   ]
  },
  {
   "cell_type": "code",
   "execution_count": null,
   "metadata": {},
   "outputs": [
    {
     "data": {
      "text/plain": [
       "10"
      ]
     },
     "execution_count": 10,
     "metadata": {},
     "output_type": "execute_result"
    }
   ],
   "source": [
    "paperDownNext = paperDown[~paperDown['id'].isin(downloadedIds)]\n",
    "len(paperDownNext.head(n=10).to_dict('records'))\n"
   ]
  },
  {
   "cell_type": "code",
   "execution_count": null,
   "metadata": {},
   "outputs": [
    {
     "name": "stdout",
     "output_type": "stream",
     "text": [
      "429\n",
      "Too Many Requests\n",
      "429\n",
      "Too Many Requests\n"
     ]
    }
   ],
   "source": [
    "paperDownList = paperDownNext.head(n=2).to_dict(orient='records')\n",
    "len(paperDownList)\n",
    "for paper in paperDownList:\n",
    "\tlink = paper['download_link']\n",
    "\tid = paper['id']\n",
    "\tstatus = download(id, link)\n",
    "\tif not status:\n",
    "\t\tprint(f\"{id} is downloaded\")\n",
    "\t\tinfo = {\n",
    "\t\t\t'id': id\n",
    "\t\t}\n",
    "\t\tdf = pd.DataFrame([info])\n",
    "\t\tdf.to_csv(\"data/info/downloaded.csv\", mode='a', header=False, index=False)\n",
    "\telse:\n",
    "\t\tfor s in status:\n",
    "\t\t\tprint(s)\n"
   ]
  },
  {
   "cell_type": "code",
   "execution_count": null,
   "metadata": {},
   "outputs": [
    {
     "data": {
      "text/plain": [
       "['8bde6cb8-296d-4593-883f-b768103e1e69',\n",
       " '8bde6cb8-296d-4593-883f-b768103e1e69',\n",
       " '41afce58-139f-48c2-a267-cd3db1d76e33',\n",
       " '41afce58-139f-48c2-a267-cd3db1d76e33']"
      ]
     },
     "execution_count": 35,
     "metadata": {},
     "output_type": "execute_result"
    }
   ],
   "source": [
    "downloaded = pd.read_csv(\"data/info/downloaded.csv\")\n",
    "downloadedIds = downloaded['id'].tolist()\n",
    "downloadedIds\n"
   ]
  },
  {
   "cell_type": "code",
   "execution_count": null,
   "metadata": {},
   "outputs": [
    {
     "name": "stdout",
     "output_type": "stream",
     "text": [
      "empty\n"
     ]
    }
   ],
   "source": [
    "l = []\n",
    "if not l:\n",
    "\tprint(\"empty\")"
   ]
  },
  {
   "cell_type": "code",
   "execution_count": null,
   "metadata": {},
   "outputs": [],
   "source": []
  },
  {
   "cell_type": "markdown",
   "metadata": {},
   "source": [
    "## Utils"
   ]
  },
  {
   "cell_type": "code",
   "execution_count": null,
   "metadata": {},
   "outputs": [
    {
     "name": "stdout",
     "output_type": "stream",
     "text": [
      "{'a': 1, 'b': 2}\n"
     ]
    }
   ],
   "source": [
    "def takeDict(d):\n",
    "\tprint(d)\n",
    "\n",
    "takeDict({'a': 1, 'b': 2})"
   ]
  },
  {
   "cell_type": "code",
   "execution_count": null,
   "metadata": {},
   "outputs": [
    {
     "name": "stdout",
     "output_type": "stream",
     "text": [
      "1 2 0\n"
     ]
    }
   ],
   "source": [
    "def fn(a,b=0,c=0):\n",
    "\tprint(a,b,c)\n",
    "\t\n",
    "def takeDict(cb,d):\n",
    "\t# print(d)\n",
    "\tcb(**d)\n",
    "\t\n",
    "\n",
    "# TypeError: fn() got an unexpected keyword argument 'd'\n",
    "# takeDict(fn, {'a': 1, 'd': 2})\n",
    "takeDict(fn, {'a': 1, 'b': 2})\n"
   ]
  }
 ],
 "metadata": {
  "interpreter": {
   "hash": "13a64c48d63ab7fa89dd239a6172cf842d756bd82fcb4ba948a9115b41dc50a1"
  },
  "kernelspec": {
   "display_name": "Python 3.9.7 ('base')",
   "language": "python",
   "name": "python3"
  },
  "language_info": {
   "codemirror_mode": {
    "name": "ipython",
    "version": 3
   },
   "file_extension": ".py",
   "mimetype": "text/x-python",
   "name": "python",
   "nbconvert_exporter": "python",
   "pygments_lexer": "ipython3",
   "version": "3.9.7"
  },
  "orig_nbformat": 4
 },
 "nbformat": 4,
 "nbformat_minor": 2
}
